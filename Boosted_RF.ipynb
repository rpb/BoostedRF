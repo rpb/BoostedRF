{
 "cells": [
  {
   "cell_type": "code",
   "execution_count": 27,
   "metadata": {},
   "outputs": [],
   "source": [
    "import numpy as np\n",
    "import matplotlib.pyplot as plt\n",
    "\n",
    "from sklearn.ensemble import AdaBoostClassifier, RandomForestClassifier, GradientBoostingClassifier\n",
    "from sklearn.tree import DecisionTreeClassifier\n",
    "from sklearn.datasets import make_gaussian_quantiles\n",
    "from sklearn import preprocessing\n",
    "from sklearn.externals.six.moves import zip\n",
    "from sklearn.metrics import accuracy_score\n",
    "from numpy import random\n",
    "import pandas as pd\n",
    "from sklearn.model_selection import train_test_split\n",
    "%matplotlib inline "
   ]
  },
  {
   "cell_type": "code",
   "execution_count": 4,
   "metadata": {},
   "outputs": [],
   "source": [
    "foo = random.RandomState(0)"
   ]
  },
  {
   "cell_type": "code",
   "execution_count": null,
   "metadata": {},
   "outputs": [],
   "source": []
  },
  {
   "cell_type": "markdown",
   "metadata": {},
   "source": [
    "# Income Data"
   ]
  },
  {
   "cell_type": "code",
   "execution_count": 5,
   "metadata": {
    "collapsed": true
   },
   "outputs": [],
   "source": [
    "trainData = pd.read_csv('adult.data', names=['age',\n",
    "                                        'workclass',\n",
    "                                        'fnlwgt', \n",
    "                                        'ed',\n",
    "                                        'ednum', \n",
    "                                        'marital',\n",
    "                                        'occ',\n",
    "                                        'rel',\n",
    "                                        'race', \n",
    "                                        'sex', \n",
    "                                        'cap_gain', \n",
    "                                        'cap_loss', \n",
    "                                        'hpw', \n",
    "                                        'country', \n",
    "                                        'label'])\n",
    "\n",
    "testData = pd.read_csv('adult.test', names=['age',\n",
    "                                        'workclass',\n",
    "                                        'fnlwgt', \n",
    "                                        'ed',\n",
    "                                        'ednum', \n",
    "                                        'marital',\n",
    "                                        'occ',\n",
    "                                        'rel',\n",
    "                                        'race', \n",
    "                                        'sex', \n",
    "                                        'cap_gain', \n",
    "                                        'cap_loss', \n",
    "                                        'hpw', \n",
    "                                        'country', \n",
    "                                        'label'], skiprows=1)"
   ]
  },
  {
   "cell_type": "code",
   "execution_count": null,
   "metadata": {},
   "outputs": [],
   "source": [
    "yy0 = trainData['label']\n",
    "xx0 = trainData[['age',\n",
    "                                        'workclass',\n",
    "                                        'fnlwgt', \n",
    "                                        'ed',\n",
    "                                        'ednum', \n",
    "                                        'marital',\n",
    "                                        'occ',\n",
    "                                        'rel',\n",
    "                                        'race', \n",
    "                                        'sex', \n",
    "                                        'cap_gain', \n",
    "                                        'cap_loss', \n",
    "                                        'hpw', \n",
    "                                        'country']]\n",
    "\n",
    "yy1 = testData['label']\n",
    "xx1 = testData[['age',\n",
    "                                        'workclass',\n",
    "                                        'fnlwgt', \n",
    "                                        'ed',\n",
    "                                        'ednum', \n",
    "                                        'marital',\n",
    "                                        'occ',\n",
    "                                        'rel',\n",
    "                                        'race', \n",
    "                                        'sex', \n",
    "                                        'cap_gain', \n",
    "                                        'cap_loss', \n",
    "                                        'hpw', \n",
    "                                        'country']]"
   ]
  },
  {
   "cell_type": "code",
   "execution_count": null,
   "metadata": {},
   "outputs": [],
   "source": [
    "xx_train = pd.get_dummies(xx0, columns=['workclass', 'ed', 'marital', 'occ', 'rel', 'race', 'sex', 'country'])"
   ]
  },
  {
   "cell_type": "code",
   "execution_count": null,
   "metadata": {},
   "outputs": [],
   "source": [
    "xx_test = pd.get_dummies(xx1, columns=['workclass', 'ed', 'marital', 'occ', 'rel', 'race', 'sex', 'country'])"
   ]
  },
  {
   "cell_type": "code",
   "execution_count": null,
   "metadata": {},
   "outputs": [],
   "source": [
    "yy_train = pd.get_dummies(yy0)[' <=50K']\n",
    "yy_test = pd.get_dummies(yy1)[' <=50K.']"
   ]
  },
  {
   "cell_type": "code",
   "execution_count": null,
   "metadata": {},
   "outputs": [],
   "source": [
    "print xx_train.shape\n",
    "print yy_train.shape\n",
    "print xx_test.shape\n",
    "print yy_test.shape"
   ]
  },
  {
   "cell_type": "code",
   "execution_count": null,
   "metadata": {
    "collapsed": true
   },
   "outputs": [],
   "source": [
    "xx_test['country_ Holand-Netherlands']=pd.Series(np.zeros(16281))"
   ]
  },
  {
   "cell_type": "code",
   "execution_count": null,
   "metadata": {
    "collapsed": true
   },
   "outputs": [],
   "source": [
    "xx_test = xx_test[xx_train.columns]"
   ]
  },
  {
   "cell_type": "code",
   "execution_count": null,
   "metadata": {},
   "outputs": [],
   "source": [
    "for ii in range(108):\n",
    "    print xx_test.columns[ii], xx_train.columns[ii]\n"
   ]
  },
  {
   "cell_type": "code",
   "execution_count": null,
   "metadata": {},
   "outputs": [],
   "source": [
    "bdt = AdaBoostClassifier(DecisionTreeClassifier(max_depth=2),\n",
    "                         algorithm=\"SAMME\",\n",
    "                         n_estimators=1)\n",
    "\n",
    "bdt.fit(xx_train, yy_train)\n",
    "\n",
    "plot_colors = \"br\"\n",
    "plot_step = 0.02\n",
    "class_names = \"AB\"\n",
    "\n",
    "plt.figure(figsize=(10, 5))\n",
    "\n",
    "\n",
    "# Plot the two-class decision scores\n",
    "twoclass_output = bdt.decision_function(xx_test)\n",
    "plot_range = (twoclass_output.min(), twoclass_output.max())\n",
    "plt.subplot(122)\n",
    "for i, n, c in zip(range(2), class_names, plot_colors):\n",
    "    plt.hist(twoclass_output[yy_test == i],\n",
    "             bins=10,\n",
    "             range=plot_range,\n",
    "             facecolor=c,\n",
    "             label='Class %s' % n,\n",
    "             alpha=.5,\n",
    "             edgecolor='k')\n",
    "x1, x2, y1, y2 = plt.axis()\n",
    "plt.axis((x1, x2, y1, y2 * 1.2))\n",
    "plt.legend(loc='upper right')\n",
    "plt.ylabel('Samples')\n",
    "plt.xlabel('Score')\n",
    "plt.title('Decision Scores')\n",
    "\n",
    "plt.tight_layout()\n",
    "plt.subplots_adjust(wspace=0.35)\n",
    "plt.show()"
   ]
  },
  {
   "cell_type": "code",
   "execution_count": null,
   "metadata": {},
   "outputs": [],
   "source": [
    "twoclass_output.shape"
   ]
  },
  {
   "cell_type": "code",
   "execution_count": null,
   "metadata": {},
   "outputs": [],
   "source": [
    "570982/3"
   ]
  },
  {
   "cell_type": "markdown",
   "metadata": {},
   "source": [
    "# Forest Cover Type Data"
   ]
  },
  {
   "cell_type": "code",
   "execution_count": 7,
   "metadata": {},
   "outputs": [],
   "source": [
    "fdata = pd.read_csv('covtype.data', header=None)"
   ]
  },
  {
   "cell_type": "code",
   "execution_count": 11,
   "metadata": {},
   "outputs": [],
   "source": [
    "fdataBin = fdata[(fdata[54]==1) |(fdata[54]==2)]"
   ]
  },
  {
   "cell_type": "code",
   "execution_count": 13,
   "metadata": {},
   "outputs": [
    {
     "data": {
      "text/html": [
       "<div>\n",
       "<style>\n",
       "    .dataframe thead tr:only-child th {\n",
       "        text-align: right;\n",
       "    }\n",
       "\n",
       "    .dataframe thead th {\n",
       "        text-align: left;\n",
       "    }\n",
       "\n",
       "    .dataframe tbody tr th {\n",
       "        vertical-align: top;\n",
       "    }\n",
       "</style>\n",
       "<table border=\"1\" class=\"dataframe\">\n",
       "  <thead>\n",
       "    <tr style=\"text-align: right;\">\n",
       "      <th></th>\n",
       "      <th>0</th>\n",
       "      <th>1</th>\n",
       "      <th>2</th>\n",
       "      <th>3</th>\n",
       "      <th>4</th>\n",
       "      <th>5</th>\n",
       "      <th>6</th>\n",
       "      <th>7</th>\n",
       "      <th>8</th>\n",
       "      <th>9</th>\n",
       "      <th>...</th>\n",
       "      <th>44</th>\n",
       "      <th>45</th>\n",
       "      <th>46</th>\n",
       "      <th>47</th>\n",
       "      <th>48</th>\n",
       "      <th>49</th>\n",
       "      <th>50</th>\n",
       "      <th>51</th>\n",
       "      <th>52</th>\n",
       "      <th>53</th>\n",
       "    </tr>\n",
       "    <tr>\n",
       "      <th>54</th>\n",
       "      <th></th>\n",
       "      <th></th>\n",
       "      <th></th>\n",
       "      <th></th>\n",
       "      <th></th>\n",
       "      <th></th>\n",
       "      <th></th>\n",
       "      <th></th>\n",
       "      <th></th>\n",
       "      <th></th>\n",
       "      <th></th>\n",
       "      <th></th>\n",
       "      <th></th>\n",
       "      <th></th>\n",
       "      <th></th>\n",
       "      <th></th>\n",
       "      <th></th>\n",
       "      <th></th>\n",
       "      <th></th>\n",
       "      <th></th>\n",
       "      <th></th>\n",
       "    </tr>\n",
       "  </thead>\n",
       "  <tbody>\n",
       "    <tr>\n",
       "      <th>1</th>\n",
       "      <td>211840</td>\n",
       "      <td>211840</td>\n",
       "      <td>211840</td>\n",
       "      <td>211840</td>\n",
       "      <td>211840</td>\n",
       "      <td>211840</td>\n",
       "      <td>211840</td>\n",
       "      <td>211840</td>\n",
       "      <td>211840</td>\n",
       "      <td>211840</td>\n",
       "      <td>...</td>\n",
       "      <td>211840</td>\n",
       "      <td>211840</td>\n",
       "      <td>211840</td>\n",
       "      <td>211840</td>\n",
       "      <td>211840</td>\n",
       "      <td>211840</td>\n",
       "      <td>211840</td>\n",
       "      <td>211840</td>\n",
       "      <td>211840</td>\n",
       "      <td>211840</td>\n",
       "    </tr>\n",
       "    <tr>\n",
       "      <th>2</th>\n",
       "      <td>283301</td>\n",
       "      <td>283301</td>\n",
       "      <td>283301</td>\n",
       "      <td>283301</td>\n",
       "      <td>283301</td>\n",
       "      <td>283301</td>\n",
       "      <td>283301</td>\n",
       "      <td>283301</td>\n",
       "      <td>283301</td>\n",
       "      <td>283301</td>\n",
       "      <td>...</td>\n",
       "      <td>283301</td>\n",
       "      <td>283301</td>\n",
       "      <td>283301</td>\n",
       "      <td>283301</td>\n",
       "      <td>283301</td>\n",
       "      <td>283301</td>\n",
       "      <td>283301</td>\n",
       "      <td>283301</td>\n",
       "      <td>283301</td>\n",
       "      <td>283301</td>\n",
       "    </tr>\n",
       "  </tbody>\n",
       "</table>\n",
       "<p>2 rows × 54 columns</p>\n",
       "</div>"
      ],
      "text/plain": [
       "        0       1       2       3       4       5       6       7       8   \\\n",
       "54                                                                           \n",
       "1   211840  211840  211840  211840  211840  211840  211840  211840  211840   \n",
       "2   283301  283301  283301  283301  283301  283301  283301  283301  283301   \n",
       "\n",
       "        9    ...        44      45      46      47      48      49      50  \\\n",
       "54           ...                                                             \n",
       "1   211840   ...    211840  211840  211840  211840  211840  211840  211840   \n",
       "2   283301   ...    283301  283301  283301  283301  283301  283301  283301   \n",
       "\n",
       "        51      52      53  \n",
       "54                          \n",
       "1   211840  211840  211840  \n",
       "2   283301  283301  283301  \n",
       "\n",
       "[2 rows x 54 columns]"
      ]
     },
     "execution_count": 13,
     "metadata": {},
     "output_type": "execute_result"
    }
   ],
   "source": [
    "fdataBin.groupby(fdataBin[54]).count()"
   ]
  },
  {
   "cell_type": "code",
   "execution_count": 22,
   "metadata": {},
   "outputs": [],
   "source": [
    "fdataBinRi=fdataBin.reset_index(drop=True)"
   ]
  },
  {
   "cell_type": "code",
   "execution_count": 24,
   "metadata": {},
   "outputs": [
    {
     "data": {
      "text/plain": [
       "(495141, 55)"
      ]
     },
     "execution_count": 24,
     "metadata": {},
     "output_type": "execute_result"
    }
   ],
   "source": [
    "fdataBinRi.shape"
   ]
  },
  {
   "cell_type": "code",
   "execution_count": 29,
   "metadata": {},
   "outputs": [],
   "source": [
    "XX = fdataBinRi[np.arange(54)]\n",
    "yy = fdataBinRi[54]"
   ]
  },
  {
   "cell_type": "code",
   "execution_count": 56,
   "metadata": {},
   "outputs": [],
   "source": [
    "xxTrain, xxTest, yyTrain, yyTest = train_test_split(XX, yy, test_size=0.33, random_state=13)"
   ]
  },
  {
   "cell_type": "code",
   "execution_count": 34,
   "metadata": {},
   "outputs": [
    {
     "data": {
      "text/plain": [
       "(331744, 54)"
      ]
     },
     "execution_count": 34,
     "metadata": {},
     "output_type": "execute_result"
    }
   ],
   "source": [
    "xxTrain.shape"
   ]
  },
  {
   "cell_type": "code",
   "execution_count": null,
   "metadata": {},
   "outputs": [],
   "source": [
    "#xxTrain = fdata[np.arange(54)].iloc[0:570982]\n",
    "#yyTrain = fdata[54].iloc[0:570982]\n",
    "#xxTrain = fdata[np.arange(54)].iloc[0:int(570982/4)]\n",
    "#yyTrain = fdata[54].iloc[0:int(570982/4)]\n",
    "#xxTest = fdata[np.arange(54)].iloc[570982::]\n",
    "#yyTest = fdata[54].iloc[570982::]"
   ]
  },
  {
   "cell_type": "code",
   "execution_count": 95,
   "metadata": {},
   "outputs": [],
   "source": [
    "nBoosts = 5000\n",
    "treeDepth = 3\n",
    "rState=13\n",
    "rStateRF=0\n",
    "rStateRF_rand = random.RandomState(8)\n",
    "lrate = 1.7\n",
    "\n",
    "gbt = GradientBoostingClassifier(n_estimators=nBoosts, \n",
    "                                 max_depth=treeDepth,\n",
    "                                learning_rate=0.1)\n",
    "\n",
    "dt = DecisionTreeClassifier(max_depth=treeDepth)\n",
    "\n",
    "\n",
    "bdt_real = AdaBoostClassifier(\n",
    "    dt,\n",
    "    n_estimators=nBoosts,\n",
    "    learning_rate=lrate, \n",
    "    random_state=rState)\n",
    "\n",
    "bdt_discrete = AdaBoostClassifier(\n",
    "    dt,\n",
    "    n_estimators=nBoosts,\n",
    "    learning_rate=lrate,\n",
    "    algorithm=\"SAMME\",\n",
    "    random_state=rState)\n",
    "\n",
    "# nForests = int(1 + np.round(np.log2(nTrees)))\n",
    "nTrees = 16\n",
    "\n",
    "rf_multi = RandomForestClassifier(max_depth=treeDepth, n_estimators=nTrees, n_jobs=4, random_state=rStateRF)\n",
    "rf_multi_r = RandomForestClassifier(max_depth=treeDepth, n_estimators=nTrees, n_jobs=4, random_state=rStateRF_rand)\n",
    "rf_single = RandomForestClassifier(max_depth=treeDepth, n_estimators=nTrees, n_jobs=1, random_state=rStateRF)\n",
    "\n",
    "#rfList = []\n",
    "#for ii in np.linspace(2, 10, 9):\n",
    "#    rfList.append(RandomForestClassifier(max_depth=ii, n_estimators=nTrees, n_jobs=4, random_state=rStateRF))\n",
    "    \n",
    "brf_real = AdaBoostClassifier(\n",
    "    rf_multi,\n",
    "    n_estimators=nBoosts,\n",
    "    learning_rate=lrate,\n",
    "    random_state=rState)\n",
    "\n",
    "brf_discrete = AdaBoostClassifier(\n",
    "    rf_multi,\n",
    "    n_estimators=nBoosts,\n",
    "    learning_rate=lrate,\n",
    "    algorithm=\"SAMME\",\n",
    "    random_state=rState)\n",
    "\n",
    "\n",
    "brf_real_s = AdaBoostClassifier(\n",
    "    rf_single,\n",
    "    n_estimators=nBoosts,\n",
    "    learning_rate=1.5,\n",
    "    random_state=rState)\n",
    "\n",
    "brf_discrete_s = AdaBoostClassifier(\n",
    "    rf_single,\n",
    "    n_estimators=nBoosts,\n",
    "    learning_rate=lrate,\n",
    "    algorithm=\"SAMME\",\n",
    "    random_state=rState)\n",
    "\n",
    "\n",
    "brf_real_r = AdaBoostClassifier(\n",
    "    rf_multi_r,\n",
    "    n_estimators=nBoosts,\n",
    "    learning_rate=lrate,\n",
    "    random_state=rState)\n",
    "\n",
    "brf_discrete_r = AdaBoostClassifier(\n",
    "    rf_multi_r,\n",
    "    n_estimators=nBoosts,\n",
    "    learning_rate=lrate,\n",
    "    algorithm=\"SAMME\",\n",
    "    random_state=rState)\n"
   ]
  },
  {
   "cell_type": "code",
   "execution_count": 68,
   "metadata": {
    "collapsed": true
   },
   "outputs": [],
   "source": []
  },
  {
   "cell_type": "code",
   "execution_count": null,
   "metadata": {},
   "outputs": [],
   "source": [
    "nForests"
   ]
  },
  {
   "cell_type": "code",
   "execution_count": 64,
   "metadata": {},
   "outputs": [
    {
     "name": "stdout",
     "output_type": "stream",
     "text": [
      "1min 3s ± 1.59 s per loop (mean ± std. dev. of 10 runs, 1 loop each)\n"
     ]
    }
   ],
   "source": [
    "%%timeit -r 10\n",
    "bdt_real.fit(xxTrain, yyTrain)"
   ]
  },
  {
   "cell_type": "code",
   "execution_count": 65,
   "metadata": {},
   "outputs": [
    {
     "name": "stdout",
     "output_type": "stream",
     "text": [
      "1min 14s ± 3.25 s per loop (mean ± std. dev. of 10 runs, 1 loop each)\n"
     ]
    }
   ],
   "source": [
    "%%timeit -r 10\n",
    "brf_real.fit(xxTrain, yyTrain)"
   ]
  },
  {
   "cell_type": "code",
   "execution_count": 66,
   "metadata": {},
   "outputs": [
    {
     "name": "stdout",
     "output_type": "stream",
     "text": [
      "1min 9s ± 3.86 s per loop (mean ± std. dev. of 10 runs, 1 loop each)\n"
     ]
    }
   ],
   "source": [
    "%%timeit -r 10\n",
    "bdt_discrete.fit(xxTrain, yyTrain)"
   ]
  },
  {
   "cell_type": "code",
   "execution_count": 67,
   "metadata": {},
   "outputs": [
    {
     "name": "stdout",
     "output_type": "stream",
     "text": [
      "1min 12s ± 2.13 s per loop (mean ± std. dev. of 10 runs, 1 loop each)\n"
     ]
    }
   ],
   "source": [
    "%%timeit -r 10\n",
    "brf_discrete.fit(xxTrain, yyTrain)"
   ]
  },
  {
   "cell_type": "code",
   "execution_count": 41,
   "metadata": {},
   "outputs": [
    {
     "name": "stdout",
     "output_type": "stream",
     "text": [
      "13min 32s ± 773 ms per loop (mean ± std. dev. of 10 runs, 1 loop each)\n"
     ]
    }
   ],
   "source": [
    "#%%timeit -r 10\n",
    "#brf_real_s.fit(xxTrain, yyTrain)"
   ]
  },
  {
   "cell_type": "code",
   "execution_count": 42,
   "metadata": {},
   "outputs": [
    {
     "name": "stdout",
     "output_type": "stream",
     "text": [
      "13min 50s ± 1.32 s per loop (mean ± std. dev. of 10 runs, 1 loop each)\n"
     ]
    }
   ],
   "source": [
    "#%%timeit -r 10\n",
    "#brf_discrete_s.fit(xxTrain, yyTrain)"
   ]
  },
  {
   "cell_type": "code",
   "execution_count": 43,
   "metadata": {},
   "outputs": [
    {
     "name": "stdout",
     "output_type": "stream",
     "text": [
      "5min 53s ± 603 ms per loop (mean ± std. dev. of 10 runs, 1 loop each)\n"
     ]
    }
   ],
   "source": [
    "#%%timeit -r 10\n",
    "#brf_real_r.fit(xxTrain, yyTrain)"
   ]
  },
  {
   "cell_type": "code",
   "execution_count": 44,
   "metadata": {},
   "outputs": [
    {
     "name": "stdout",
     "output_type": "stream",
     "text": [
      "6min ± 1.25 s per loop (mean ± std. dev. of 10 runs, 1 loop each)\n"
     ]
    }
   ],
   "source": [
    "#%%timeit -r 10\n",
    "#brf_discrete_r.fit(xxTrain, yyTrain)"
   ]
  },
  {
   "cell_type": "code",
   "execution_count": 70,
   "metadata": {},
   "outputs": [
    {
     "name": "stdout",
     "output_type": "stream",
     "text": [
      "37.2 s ± 1.53 s per loop (mean ± std. dev. of 10 runs, 1 loop each)\n"
     ]
    }
   ],
   "source": [
    "%%timeit -r 10\n",
    "gbt.fit(xxTrain, yyTrain)"
   ]
  },
  {
   "cell_type": "code",
   "execution_count": 96,
   "metadata": {},
   "outputs": [
    {
     "data": {
      "text/plain": [
       "GradientBoostingClassifier(criterion='friedman_mse', init=None,\n",
       "              learning_rate=0.1, loss='deviance', max_depth=3,\n",
       "              max_features=None, max_leaf_nodes=None,\n",
       "              min_impurity_decrease=0.0, min_impurity_split=None,\n",
       "              min_samples_leaf=1, min_samples_split=2,\n",
       "              min_weight_fraction_leaf=0.0, n_estimators=5000,\n",
       "              presort='auto', random_state=None, subsample=1.0, verbose=0,\n",
       "              warm_start=False)"
      ]
     },
     "execution_count": 96,
     "metadata": {},
     "output_type": "execute_result"
    }
   ],
   "source": [
    "bdt_real.fit(xxTrain, yyTrain)\n",
    "bdt_discrete.fit(xxTrain, yyTrain)\n",
    "brf_real.fit(xxTrain, yyTrain)\n",
    "brf_discrete.fit(xxTrain, yyTrain)\n",
    "gbt.fit(xxTrain, yyTrain)"
   ]
  },
  {
   "cell_type": "markdown",
   "metadata": {
    "collapsed": true
   },
   "source": [
    "# Plot Both"
   ]
  },
  {
   "cell_type": "code",
   "execution_count": 57,
   "metadata": {},
   "outputs": [
    {
     "name": "stdout",
     "output_type": "stream",
     "text": [
      "(163397, 54)\n",
      "(163397, 54)\n",
      "(163397, 54)\n",
      "(81698, 54)\n",
      "(163397, 54)\n",
      "(163397, 54)\n"
     ]
    }
   ],
   "source": [
    "print(xxTest.shape)\n",
    "xxTest_orig = xxTest.copy(deep=True)\n",
    "yyTest_orig = yyTest.copy(deep=True)\n",
    "xxTest_origV2 = xxTest\n",
    "yyTest_origV2 = yyTest\n",
    "\n",
    "print(xxTest_orig.shape)\n",
    "print(xxTest_origV2.shape)\n",
    "xxTest = xxTest_orig[0:int(163397/2)]\n",
    "yyTest = yyTest_orig[0:int(163397/2)]\n",
    "\n",
    "print(xxTest.shape)\n",
    "print(xxTest_orig.shape)\n",
    "print(xxTest_origV2.shape)"
   ]
  },
  {
   "cell_type": "code",
   "execution_count": 61,
   "metadata": {
    "collapsed": true
   },
   "outputs": [],
   "source": [
    "xxTest = xxTest_orig\n",
    "yyTest = yyTest_orig"
   ]
  },
  {
   "cell_type": "code",
   "execution_count": 97,
   "metadata": {
    "scrolled": false
   },
   "outputs": [
    {
     "data": {
      "image/png": "[encoded data removed]",
      "text/plain": [
       "<matplotlib.figure.Figure at 0x1a2bc0d710>"
      ]
     },
     "metadata": {},
     "output_type": "display_data"
    }
   ],
   "source": [
    "real_test_errors = []\n",
    "discrete_test_errors = []\n",
    "\n",
    "for real_test_predict, discrete_test_predict in zip(\n",
    "        bdt_real.staged_predict(xxTest), bdt_discrete.staged_predict(xxTest)):\n",
    "    real_test_errors.append(\n",
    "        1. - accuracy_score(real_test_predict, yyTest))\n",
    "    discrete_test_errors.append(\n",
    "        1. - accuracy_score(discrete_test_predict, yyTest))\n",
    "\n",
    "n_trees_discrete = len(bdt_discrete)\n",
    "n_trees_real = len(bdt_real)\n",
    "\n",
    "\n",
    "# Boosting might terminate early, but the following arrays are always\n",
    "# n_estimators long. We crop them to the actual number of trees here:\n",
    "discrete_estimator_errors = bdt_discrete.estimator_errors_[:n_trees_discrete]\n",
    "real_estimator_errors = bdt_real.estimator_errors_[:n_trees_real]\n",
    "discrete_estimator_weights = bdt_discrete.estimator_weights_[:n_trees_discrete]\n",
    "\n",
    "\n",
    "real_test_errors_rf = []\n",
    "discrete_test_errors_rf = []\n",
    "\n",
    "for real_test_predict_rf in brf_real.staged_predict(xxTest):\n",
    "    real_test_errors_rf.append(\n",
    "        1. - accuracy_score(real_test_predict_rf, yyTest))   \n",
    "    \n",
    "for discrete_test_predict_rf in brf_discrete.staged_predict(xxTest):\n",
    "    discrete_test_errors_rf.append(\n",
    "        1. - accuracy_score(discrete_test_predict_rf, yyTest))\n",
    "\n",
    "    \n",
    "n_trees_discrete_rf = len(brf_discrete)\n",
    "n_trees_real_rf = len(brf_real)\n",
    "\n",
    "# Boosting might terminate early, but the following arrays are always\n",
    "# n_estimators long. We crop them to the actual number of trees here:\n",
    "discrete_estimator_errors_rf = brf_discrete.estimator_errors_[:n_trees_discrete_rf]\n",
    "real_estimator_errors_rf = brf_real.estimator_errors_[:n_trees_real_rf]\n",
    "discrete_estimator_weights_rf = brf_discrete.estimator_weights_[:n_trees_discrete_rf]\n",
    "\n",
    "#########Random #############\n",
    "\n",
    "#real_test_errors_rf_r = []\n",
    "#discrete_test_errors_rf_r = []\n",
    "#\n",
    "#for real_test_predict_rf_r in brf_real_r.staged_predict(xxTest):\n",
    "#    real_test_errors_rf_r.append(\n",
    "#        1. - accuracy_score(real_test_predict_rf_r, yyTest))   \n",
    "#    \n",
    "#for discrete_train_predict_rf_r in brf_discrete_r.staged_predict(xxTest):\n",
    "#    discrete_test_errors_rf_r.append(\n",
    "#        1. - accuracy_score(discrete_train_predict_rf_r, yyTest))\n",
    "#\n",
    "#    \n",
    "#n_trees_discrete_rf_r = len(brf_discrete_r)\n",
    "#n_trees_real_rf_r = len(brf_real_r)\n",
    "#\n",
    "# Boosting might terminate early, but the following arrays are always\n",
    "# n_estimators long. We crop them to the actual number of trees here:\n",
    "#discrete_estimator_errors_rf_r = brf_discrete_r.estimator_errors_[:n_trees_discrete_rf]\n",
    "#real_estimator_errors_rf_r = brf_real_r.estimator_errors_[:n_trees_real_rf]\n",
    "#discrete_estimator_weights_rf_r = brf_discrete_r.estimator_weights_[:n_trees_discrete_rf]\n",
    "\n",
    "\n",
    "###########GBT ####################\n",
    "\n",
    "gbt_test_errors = []\n",
    "\n",
    "for gbt_test_predict in gbt.staged_predict(xxTest):\n",
    "    gbt_test_errors.append(\n",
    "        1. - accuracy_score(gbt_test_predict, yyTest))   \n",
    "    \n",
    "    \n",
    "n_trees_gbt = len(gbt)\n",
    "\n",
    "# Boosting might terminate early, but the following arrays are always\n",
    "# n_estimators long. We crop them to the actual number of trees here:\n",
    "#gbt_estimator_errors = gbt.estimator_errors_[:n_trees_gbt]\n",
    "\n",
    "\n",
    "plt.figure(figsize=(30, 10))\n",
    "\n",
    "plt.subplot(131)\n",
    "plt.plot(range(1, n_trees_discrete + 1),\n",
    "         discrete_test_errors, c='black', label='SAMME')\n",
    "plt.plot(range(1, n_trees_real + 1),\n",
    "         real_test_errors, c='black',\n",
    "         linestyle='dashed', label='SAMME.R')\n",
    "plt.plot(range(1, n_trees_discrete_rf + 1),\n",
    "         discrete_test_errors_rf, c='r', label='SAMME Boosted RF', alpha=0.5 )\n",
    "plt.plot(range(1, n_trees_real_rf + 1),\n",
    "         real_test_errors_rf, c='r',\n",
    "         linestyle='dashed', label='SAMME.R Boosted RF', alpha=0.5)\n",
    "plt.plot(range(1, n_trees_gbt + 1),\n",
    "         gbt_test_errors, c='b',\n",
    "         linestyle='dashed', label='GBT', alpha=0.5)\n",
    "\n",
    "#plt.plot(range(1, n_trees_discrete_rf_r + 1),\n",
    "#         discrete_test_errors_rf_r, c='b', label='SAMME Boosted RF Rand')\n",
    "#plt.plot(range(1, n_trees_real_rf_r + 1),\n",
    "#         real_test_errors_rf_r, c='b',\n",
    "#         linestyle='dashed', label='SAMME.R Boosted RF Rand')\n",
    "plt.legend()\n",
    "plt.ylim(0.0, 0.30)\n",
    "plt.ylabel('Test Error Rate [1 - accuracy]')\n",
    "plt.xlabel('Number of Boosts')\n",
    "\n",
    "## PLOT 2 ##\n",
    "plt.subplot(132)\n",
    "plt.plot(range(1, n_trees_discrete + 1), discrete_estimator_errors,\n",
    "         \"c\", label='SAMME', alpha=.5)\n",
    "plt.plot(range(1, n_trees_real + 1), real_estimator_errors,\n",
    "         \"m\", label='SAMME.R', alpha=.5)\n",
    "plt.plot(range(1, n_trees_discrete_rf + 1), discrete_estimator_errors_rf,\n",
    "         \"b\", label='SAMME Boosted RF', alpha=.5)\n",
    "plt.plot(range(1, n_trees_real_rf + 1), real_estimator_errors_rf,\n",
    "         \"r\", label='SAMME.R Boosted RF', alpha=.5)\n",
    "plt.legend()\n",
    "plt.ylabel('Classification Error')\n",
    "plt.xlabel('Number of Trees')\n",
    "plt.ylim((.2,\n",
    "         max(real_estimator_errors.max(),\n",
    "             discrete_estimator_errors.max()) * 1.2))\n",
    "plt.xlim((-20, len(bdt_discrete) + 20))\n",
    "\n",
    "\n",
    "## PLOT 3 ##\n",
    "plt.subplot(133)\n",
    "plt.plot(range(1, n_trees_discrete + 1), discrete_estimator_weights,\n",
    "         \"c\", label='SAMME')\n",
    "plt.plot(range(1, n_trees_discrete_rf + 1), discrete_estimator_weights_rf,\n",
    "         \"b\", label='SAMME Boosted RF')\n",
    "plt.legend()\n",
    "plt.ylabel('Weight')\n",
    "plt.xlabel('Number of Trees')\n",
    "plt.ylim((0, discrete_estimator_weights.max() * 1.2))\n",
    "plt.xlim((-20, n_trees_discrete + 20))\n",
    "\n",
    "# prevent overlapping y-axis labels\n",
    "plt.subplots_adjust(wspace=0.25)\n",
    "plt.show()"
   ]
  },
  {
   "cell_type": "code",
   "execution_count": null,
   "metadata": {
    "collapsed": true
   },
   "outputs": [],
   "source": [
    "xxTrain = fdata[np.arange(54)].iloc[10030::]\n",
    "yyTrain = fdata[54].iloc[10030::]\n",
    "\n",
    "xxTest = fdata[np.arange(54)].iloc[0:10030]\n",
    "yyTest = fdata[54].iloc[0:10030]"
   ]
  },
  {
   "cell_type": "code",
   "execution_count": null,
   "metadata": {},
   "outputs": [],
   "source": [
    "bdt_real.fit(xxTrain, yyTrain)\n",
    "bdt_discrete.fit(xxTrain, yyTrain)\n",
    "brf_real.fit(xxTrain, yyTrain)\n",
    "brf_discrete.fit(xxTrain, yyTrain)\n",
    "gbt.fit(xxTrain, yyTrain)"
   ]
  },
  {
   "cell_type": "code",
   "execution_count": null,
   "metadata": {
    "scrolled": true
   },
   "outputs": [],
   "source": [
    "real_test_errors = []\n",
    "discrete_test_errors = []\n",
    "\n",
    "for real_test_predict, discrete_train_predict in zip(\n",
    "        bdt_real.staged_predict(xxTest), bdt_discrete.staged_predict(xxTest)):\n",
    "    real_test_errors.append(\n",
    "        1. - accuracy_score(real_test_predict, yyTest))\n",
    "    discrete_test_errors.append(\n",
    "        1. - accuracy_score(discrete_train_predict, yyTest))\n",
    "\n",
    "n_trees_discrete = len(bdt_discrete)\n",
    "n_trees_real = len(bdt_real)\n",
    "\n",
    "\n",
    "# Boosting might terminate early, but the following arrays are always\n",
    "# n_estimators long. We crop them to the actual number of trees here:\n",
    "discrete_estimator_errors = bdt_discrete.estimator_errors_[:n_trees_discrete]\n",
    "real_estimator_errors = bdt_real.estimator_errors_[:n_trees_real]\n",
    "discrete_estimator_weights = bdt_discrete.estimator_weights_[:n_trees_discrete]\n",
    "\n",
    "\n",
    "real_test_errors_rf = []\n",
    "discrete_test_errors_rf = []\n",
    "\n",
    "for real_test_predict_rf in brf_real.staged_predict(xxTest):\n",
    "    real_test_errors_rf.append(\n",
    "        1. - accuracy_score(real_test_predict_rf, yyTest))   \n",
    "    \n",
    "for discrete_train_predict_rf in brf_discrete.staged_predict(xxTest):\n",
    "    discrete_test_errors_rf.append(\n",
    "        1. - accuracy_score(discrete_train_predict_rf, yyTest))\n",
    "\n",
    "    \n",
    "n_trees_discrete_rf = len(brf_discrete)\n",
    "n_trees_real_rf = len(brf_real)\n",
    "\n",
    "# Boosting might terminate early, but the following arrays are always\n",
    "# n_estimators long. We crop them to the actual number of trees here:\n",
    "discrete_estimator_errors_rf = brf_discrete.estimator_errors_[:n_trees_discrete_rf]\n",
    "real_estimator_errors_rf = brf_real.estimator_errors_[:n_trees_real_rf]\n",
    "discrete_estimator_weights_rf = brf_discrete.estimator_weights_[:n_trees_discrete_rf]\n",
    "\n",
    "#########Random #############\n",
    "\n",
    "#real_test_errors_rf_r = []\n",
    "#discrete_test_errors_rf_r = []\n",
    "#\n",
    "#for real_test_predict_rf_r in brf_real_r.staged_predict(xxTest):\n",
    "#    real_test_errors_rf_r.append(\n",
    "#        1. - accuracy_score(real_test_predict_rf_r, yyTest))   \n",
    "#    \n",
    "#for discrete_train_predict_rf_r in brf_discrete_r.staged_predict(xxTest):\n",
    "#    discrete_test_errors_rf_r.append(\n",
    "#        1. - accuracy_score(discrete_train_predict_rf_r, yyTest))\n",
    "#\n",
    "#    \n",
    "#n_trees_discrete_rf_r = len(brf_discrete_r)\n",
    "#n_trees_real_rf_r = len(brf_real_r)\n",
    "#\n",
    "# Boosting might terminate early, but the following arrays are always\n",
    "# n_estimators long. We crop them to the actual number of trees here:\n",
    "#discrete_estimator_errors_rf_r = brf_discrete_r.estimator_errors_[:n_trees_discrete_rf]\n",
    "#real_estimator_errors_rf_r = brf_real_r.estimator_errors_[:n_trees_real_rf]\n",
    "#discrete_estimator_weights_rf_r = brf_discrete_r.estimator_weights_[:n_trees_discrete_rf]\n",
    "\n",
    "\n",
    "###########GBT ####################\n",
    "\n",
    "gbt_test_errors = []\n",
    "\n",
    "for gbt_test_predict in gbt.staged_predict(xxTest):\n",
    "    gbt_test_errors.append(\n",
    "        1. - accuracy_score(gbt_test_predict, yyTest))   \n",
    "    \n",
    "    \n",
    "n_trees_gbt = len(gbt)\n",
    "\n",
    "# Boosting might terminate early, but the following arrays are always\n",
    "# n_estimators long. We crop them to the actual number of trees here:\n",
    "#gbt_estimator_errors = gbt.estimator_errors_[:n_trees_gbt]\n",
    "\n",
    "\n",
    "plt.figure(figsize=(30, 10))\n",
    "\n",
    "plt.subplot(131)\n",
    "plt.plot(range(1, n_trees_discrete + 1),\n",
    "         discrete_test_errors, c='black', label='SAMME')\n",
    "plt.plot(range(1, n_trees_real + 1),\n",
    "         real_test_errors, c='black',\n",
    "         linestyle='dashed', label='SAMME.R')\n",
    "plt.plot(range(1, n_trees_discrete_rf + 1),\n",
    "         discrete_test_errors_rf, c='r', label='SAMME Boosted RF', alpha=0.5 )\n",
    "plt.plot(range(1, n_trees_real_rf + 1),\n",
    "         real_test_errors_rf, c='r',\n",
    "         linestyle='dashed', label='SAMME.R Boosted RF', alpha=0.5)\n",
    "plt.plot(range(1, n_trees_gbt + 1),\n",
    "         gbt_test_errors, c='b',\n",
    "         linestyle='dashed', label='GBT', alpha=0.5)\n",
    "\n",
    "#plt.plot(range(1, n_trees_discrete_rf_r + 1),\n",
    "#         discrete_test_errors_rf_r, c='b', label='SAMME Boosted RF Rand')\n",
    "#plt.plot(range(1, n_trees_real_rf_r + 1),\n",
    "#         real_test_errors_rf_r, c='b',\n",
    "#         linestyle='dashed', label='SAMME.R Boosted RF Rand')\n",
    "plt.legend()\n",
    "plt.ylim(0.0, 1.0)\n",
    "plt.ylabel('Test Error')\n",
    "plt.xlabel('Number of Trees')\n",
    "\n",
    "## PLOT 2 ##\n",
    "plt.subplot(132)\n",
    "plt.plot(range(1, n_trees_discrete + 1), discrete_estimator_errors,\n",
    "         \"c\", label='SAMME', alpha=.5)\n",
    "plt.plot(range(1, n_trees_real + 1), real_estimator_errors,\n",
    "         \"m\", label='SAMME.R', alpha=.5)\n",
    "plt.plot(range(1, n_trees_discrete_rf + 1), discrete_estimator_errors_rf,\n",
    "         \"b\", label='SAMME Boosted RF', alpha=.5)\n",
    "plt.plot(range(1, n_trees_real_rf + 1), real_estimator_errors_rf,\n",
    "         \"r\", label='SAMME.R Boosted RF', alpha=.5)\n",
    "plt.legend()\n",
    "plt.ylabel('Error')\n",
    "plt.xlabel('Number of Trees')\n",
    "plt.ylim((.2,\n",
    "         max(real_estimator_errors.max(),\n",
    "             discrete_estimator_errors.max()) * 1.2))\n",
    "plt.xlim((-20, len(bdt_discrete) + 20))\n",
    "\n",
    "\n",
    "## PLOT 3 ##\n",
    "plt.subplot(133)\n",
    "plt.plot(range(1, n_trees_discrete + 1), discrete_estimator_weights,\n",
    "         \"c\", label='SAMME')\n",
    "plt.plot(range(1, n_trees_discrete_rf + 1), discrete_estimator_weights_rf,\n",
    "         \"b\", label='SAMME Boosted RF')\n",
    "plt.legend()\n",
    "plt.ylabel('Weight')\n",
    "plt.xlabel('Number of Trees')\n",
    "plt.ylim((0, discrete_estimator_weights.max() * 1.2))\n",
    "plt.xlim((-20, n_trees_discrete + 20))\n",
    "\n",
    "# prevent overlapping y-axis labels\n",
    "plt.subplots_adjust(wspace=0.25)\n",
    "plt.show()"
   ]
  },
  {
   "cell_type": "code",
   "execution_count": null,
   "metadata": {
    "collapsed": true
   },
   "outputs": [],
   "source": []
  }
 ],
 "metadata": {
  "anaconda-cloud": {},
  "kernelspec": {
   "display_name": "Python 3",
   "language": "python",
   "name": "python3"
  },
  "language_info": {
   "codemirror_mode": {
    "name": "ipython",
    "version": 3
   },
   "file_extension": ".py",
   "mimetype": "text/x-python",
   "name": "python",
   "nbconvert_exporter": "python",
   "pygments_lexer": "ipython3",
   "version": "3.6.2"
  }
 },
 "nbformat": 4,
 "nbformat_minor": 1
}
